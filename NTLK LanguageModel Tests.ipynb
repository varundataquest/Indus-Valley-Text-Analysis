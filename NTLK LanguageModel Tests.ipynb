{
 "cells": [
  {
   "cell_type": "markdown",
   "id": "4d5458ea",
   "metadata": {},
   "source": [
    "\n",
    "\n",
    "# Build a Language Model Example to Understand how it works\n",
    "\n"
   ]
  },
  {
   "cell_type": "markdown",
   "id": "e84c5b49",
   "metadata": {},
   "source": [
    "!pip install numpy\n",
    "!pip install pandas\n",
    "!pip install matplotlib\n",
    "!pip install scikit-learn\n",
    "!pip install nltk\n",
    "!pip install ipywidgets\n",
    "!pip install -U dill\n",
    "!pip3 install requests\n",
    "!pip3 install -U spacy"
   ]
  },
  {
   "cell_type": "code",
   "execution_count": 1,
   "id": "aa43bd46",
   "metadata": {},
   "outputs": [],
   "source": [
    "import os\n",
    "import time\n",
    "import numpy as np\n",
    "import pandas as pd\n",
    "import matplotlib.pyplot as plt\n",
    "from sklearn.feature_extraction.text import CountVectorizer\n",
    "import nltk\n",
    "import collections\n",
    "plt.style.use(style='seaborn')\n",
    "%matplotlib inline"
   ]
  },
  {
   "cell_type": "code",
   "execution_count": 2,
   "id": "057c8bce",
   "metadata": {},
   "outputs": [],
   "source": [
    "from nltk.util import pad_sequence\n",
    "from nltk.util import bigrams\n",
    "from nltk.util import ngrams\n",
    "from nltk.util import everygrams\n",
    "from nltk.lm.preprocessing import pad_both_ends\n",
    "from nltk.lm.preprocessing import flatten"
   ]
  },
  {
   "cell_type": "code",
   "execution_count": 3,
   "id": "1fbae861",
   "metadata": {},
   "outputs": [],
   "source": [
    "from nltk.lm.preprocessing import pad_both_ends\n",
    "from nltk.util import everygrams\n",
    "from nltk.lm.preprocessing import padded_everygram_pipeline\n",
    "from nltk.tokenize import word_tokenize,sent_tokenize\n",
    "from nltk.lm.models import MLE\n",
    "from nltk.lm.models import KneserNeyInterpolated"
   ]
  },
  {
   "cell_type": "code",
   "execution_count": 4,
   "id": "72a8be8f",
   "metadata": {},
   "outputs": [],
   "source": [
    "from nltk.tokenize.treebank import TreebankWordDetokenizer\n",
    "\n",
    "detokenize = TreebankWordDetokenizer().detokenize \n",
    "\n",
    "def generate_sent(model, num_words,char_seed, random_seed=42):\n",
    "    \"\"\"\n",
    "    :param model: An ngram language model.\n",
    "    :param num_words: Max no. of words to generate.\n",
    "    :param random_seed: Seed value for random.\n",
    "    \"\"\"\n",
    "    content = []\n",
    "    for token in model.generate(num_words, text_seed=char_seed, random_seed=random_seed):\n",
    "        if token == '<s>':\n",
    "            continue\n",
    "        if token == '</s>'  or token == '< /s>' :\n",
    "            break\n",
    "        content.append(token)\n",
    "    return detokenize(content)"
   ]
  },
  {
   "cell_type": "code",
   "execution_count": 7,
   "id": "9b44b652",
   "metadata": {},
   "outputs": [],
   "source": [
    "def reverse_text(text):\n",
    "    # first split the string into chars\n",
    "    chars = text.split(' ')\n",
    "\n",
    "    # then reverse the split string list and join with a space\n",
    "    reversed_text = ' '.join(reversed(chars))\n",
    "    return reversed_text"
   ]
  },
  {
   "cell_type": "code",
   "execution_count": 5,
   "id": "2ab864a2",
   "metadata": {},
   "outputs": [],
   "source": [
    "## Understanding how n-gram Models works - Made up an English Example to fully grasp the idea and play with it"
   ]
  },
  {
   "cell_type": "code",
   "execution_count": 6,
   "id": "49923824",
   "metadata": {},
   "outputs": [
    {
     "name": "stdout",
     "output_type": "stream",
     "text": [
      "['a', 'cat', 'is', 'in', 'the', 'house.', 'the', 'cat', 'is', 'black', 'in', 'color.', 'the', 'house', 'is', 'green', 'in', 'color']\n",
      "freq_dist: <FreqDist with 16 samples and 17 outcomes>\n",
      "Fitting the model...\n",
      "<Vocabulary with cutoff=1 unk_label='<UNK>' and 13 items>\n",
      "is black in color.\n",
      "is green in color\n",
      "green in color\n",
      "in color\n",
      "color\n"
     ]
    }
   ],
   "source": [
    "#Understanding how n-gram Models works\n",
    "s = \"A cat is in the house. The cat is black in color. The house is green in color\"\n",
    "s = s.lower()\n",
    "\n",
    "#simple tokens\n",
    "simple_tokens = s.split()\n",
    "\n",
    "print(simple_tokens)\n",
    "\n",
    "# Freq distribution of ngrams\n",
    "gut_ngrams = nltk.ngrams(simple_tokens,2)\n",
    "freq_dist = nltk.FreqDist(gut_ngrams)\n",
    "print(\"freq_dist:\", freq_dist)\n",
    "\n",
    "tokens = [word_tokenize(t) for t in sent_tokenize(s)]\n",
    "this_train_data, this_padded_sent_list = padded_everygram_pipeline(5, tokens)\n",
    "\n",
    "print_details= False\n",
    "#If you iterate through this, the iterator is done with and model \n",
    "# fitting won't work subsequently\n",
    "# so set print_details= False before trying the model\n",
    "\n",
    "if(print_details):\n",
    "    for ngramlize_sent in this_train_data:\n",
    "        print(list(ngramlize_sent))\n",
    "        print()\n",
    "\n",
    "    print('----')\n",
    "    #prints padded sentence i.e. sentence itself is padded\n",
    "    print(list(this_padded_sent_list))\n",
    "\n",
    "if(print_details==False):\n",
    "    print(\"Fitting the model...\")\n",
    "    this_lm = MLE(5) #Try pentagram model\n",
    "    this_lm.fit(this_train_data, this_padded_sent_list)\n",
    "\n",
    "    print(this_lm.vocab)\n",
    "\n",
    "    print(generate_sent(this_lm,  num_words=20,char_seed=['cat'], random_seed=48))\n",
    "    print(generate_sent(this_lm,  num_words=20,char_seed=['house'], random_seed=48))\n",
    "    print(generate_sent(this_lm,  num_words=20,char_seed=['house', 'is'], random_seed=48))\n",
    "    print(generate_sent(this_lm,  num_words=20,char_seed=['house', 'is', 'green'], random_seed=48))\n",
    "    print(generate_sent(this_lm,  num_words=20,char_seed=['house', 'is', 'green', 'in'], random_seed=48))"
   ]
  },
  {
   "cell_type": "code",
   "execution_count": 17,
   "id": "5b424023",
   "metadata": {},
   "outputs": [
    {
     "name": "stdout",
     "output_type": "stream",
     "text": [
      "a cat is in the house\n",
      "['a', 'cat', 'is', 'in', 'the', 'house']\n",
      "freq_dist: <FreqDist with 5 samples and 5 outcomes>\n",
      "Fitting the model...\n",
      "<Vocabulary with cutoff=1 unk_label='<UNK>' and 9 items>\n",
      "is in the house\n",
      "\n",
      "in the house\n",
      "a cat is in the house\n",
      "the house\n",
      "the house\n",
      "a cat is in the house\n"
     ]
    }
   ],
   "source": [
    "#Understanding how n-gram Models works\n",
    "# Reverse ngram\n",
    "s = \"A cat is in the house\" # L to R text\n",
    "s=  \"house the in is cat A\" # R to L text\n",
    "\n",
    "\n",
    "s = s.lower()\n",
    "s=reverse_text(s)\n",
    "\n",
    "print(s)\n",
    "\n",
    "#simple tokens\n",
    "simple_tokens = s.split()\n",
    "\n",
    "print(simple_tokens)\n",
    "\n",
    "# Freq distribution of ngrams\n",
    "gut_ngrams = nltk.ngrams(simple_tokens,2)\n",
    "freq_dist = nltk.FreqDist(gut_ngrams)\n",
    "print(\"freq_dist:\", freq_dist)\n",
    "\n",
    "tokens = [word_tokenize(t) for t in sent_tokenize(s)]\n",
    "this_train_data, this_padded_sent_list = padded_everygram_pipeline(5, tokens)\n",
    "\n",
    "print_details= False\n",
    "#If you iterate through this, the iterator is done with and model \n",
    "# fitting won't work subsequently\n",
    "# so set print_details= False before trying the model\n",
    "\n",
    "if(print_details):\n",
    "    for ngramlize_sent in this_train_data:\n",
    "        print(list(ngramlize_sent))\n",
    "        print()\n",
    "\n",
    "    print('----')\n",
    "    #prints padded sentence i.e. sentence itself is padded\n",
    "    print(list(this_padded_sent_list))\n",
    "\n",
    "if(print_details==False):\n",
    "    print(\"Fitting the model...\")\n",
    "    this_lm = MLE(5) #Try pentagram model\n",
    "    this_lm.fit(this_train_data, this_padded_sent_list)\n",
    "\n",
    "    print(this_lm.vocab)\n",
    "    \n",
    "\n",
    "    print(generate_sent(this_lm,  num_words=20,char_seed=['cat'], random_seed=48))\n",
    "    print(generate_sent(this_lm,  num_words=20,char_seed=['house'], random_seed=48))\n",
    "    print(generate_sent(this_lm,  num_words=20,char_seed=['house', 'is'], random_seed=48))\n",
    "    print(generate_sent(this_lm,  num_words=20,char_seed=['house', 'is', 'green'], random_seed=48))\n",
    "    print(generate_sent(this_lm,  num_words=20,char_seed=['house', 'is', 'green', 'in'], random_seed=48))\n",
    "    \n",
    "    print(generate_sent(this_lm,  num_words=20,char_seed=['in'], random_seed=48))\n",
    "    print(generate_sent(this_lm,  num_words=20,char_seed=['color'], random_seed=48))"
   ]
  },
  {
   "cell_type": "code",
   "execution_count": null,
   "id": "1815730c",
   "metadata": {},
   "outputs": [],
   "source": []
  }
 ],
 "metadata": {
  "kernelspec": {
   "display_name": "Python 3 (ipykernel)",
   "language": "python",
   "name": "python3"
  },
  "language_info": {
   "codemirror_mode": {
    "name": "ipython",
    "version": 3
   },
   "file_extension": ".py",
   "mimetype": "text/x-python",
   "name": "python",
   "nbconvert_exporter": "python",
   "pygments_lexer": "ipython3",
   "version": "3.10.4"
  }
 },
 "nbformat": 4,
 "nbformat_minor": 5
}
